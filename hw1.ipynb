{
  "nbformat": 4,
  "nbformat_minor": 0,
  "metadata": {
    "colab": {
      "provenance": []
    },
    "kernelspec": {
      "name": "python3",
      "display_name": "Python 3"
    },
    "language_info": {
      "name": "python"
    }
  },
  "cells": [
    {
      "cell_type": "code",
      "execution_count": null,
      "metadata": {
        "id": "eOQGN9JlL_F3"
      },
      "outputs": [],
      "source": []
    },
    {
      "cell_type": "markdown",
      "metadata": {
        "id": "0eIk59zrL3kP"
      },
      "source": [
        "<a href=\"https://colab.research.google.com/github/mottaquikarim/PYTH2/blob/master/src/PSETS/nb/basic_data_inclass_psets.ipynb\" target=\"_parent\"><img src=\"https://colab.research.google.com/assets/colab-badge.svg\" alt=\"Open In Colab\"/></a>"
      ]
    },
    {
      "cell_type": "markdown",
      "metadata": {
        "id": "sBO9JbnKL3ka"
      },
      "source": [
        "#  BASIC DATA TYPES\n",
        "\n",
        "## BASICS\n",
        "\n",
        "### P1.PY\n",
        "\n",
        "\n"
      ]
    },
    {
      "cell_type": "code",
      "execution_count": null,
      "metadata": {
        "id": "srOKXsXNL3kc"
      },
      "outputs": [],
      "source": [
        "\"\"\"\n",
        "Placeholders\n",
        "\"\"\"\n",
        "\n",
        "# You're writing a program, and you don't know what your starting value for your 'initial' variable is yet. The program won't run if you leave it blank, but you don't want to forget you need it! Make a workaround.\n",
        "\n"
      ]
    },
    {
      "cell_type": "markdown",
      "metadata": {
        "id": "ec2hy_EEL3kh"
      },
      "source": [
        "\n",
        "\n",
        "### P2.PY\n",
        "\n",
        "\n"
      ]
    },
    {
      "cell_type": "code",
      "execution_count": null,
      "metadata": {
        "id": "thboKIB-L3kj"
      },
      "outputs": [],
      "source": [
        "\"\"\"\n",
        "Basic Variables\n",
        "\"\"\"\n",
        "\n",
        "# Create a variable that represents your favorite number, and add a note to remind yourself what this variable represents. Now print it out without re-typing the number.\n",
        "\n",
        "\n",
        "\n",
        "# Create another variable that represents your favorite color, and do the same steps as above.\n",
        "\n"
      ]
    },
    {
      "cell_type": "markdown",
      "metadata": {
        "id": "qYqmEAiaL3kk"
      },
      "source": [
        "\n",
        "\n",
        "### P3.PY\n",
        "\n",
        "\n"
      ]
    },
    {
      "cell_type": "code",
      "execution_count": null,
      "metadata": {
        "id": "YYNBLd4_L3kl"
      },
      "outputs": [],
      "source": [
        "\"\"\"\n",
        "String Formatting\n",
        "\"\"\"\n",
        "\n",
        "# Create a variable that contains the first 4 lines of your favorite song. Add a comment that includes the song title and artist **each on their own line**! Now print out this variable.\n",
        "\n"
      ]
    },
    {
      "cell_type": "markdown",
      "metadata": {
        "id": "VRb_FN_jL3km"
      },
      "source": [
        "\n",
        "\n",
        "## TYPECASTING\n",
        "\n",
        "### P1.PY\n",
        "\n",
        "\n"
      ]
    },
    {
      "cell_type": "code",
      "execution_count": null,
      "metadata": {
        "id": "AlYj-9JYL3kn"
      },
      "outputs": [],
      "source": [
        "\"\"\"\n",
        "Typcasting w. Integers & Floats\n",
        "\"\"\"\n",
        "\n",
        "# Convert these numbers into floats and back. Print out each result as well as its data type.\n",
        "\n",
        "five = 5\n",
        "zero = 0\n",
        "neg_8 = -8\n",
        "neg_22 = -22"
      ]
    },
    {
      "cell_type": "markdown",
      "metadata": {
        "id": "irj4r5aAL3kn"
      },
      "source": [
        "\n",
        "\n",
        "### P2.PY\n",
        "\n",
        "\n"
      ]
    },
    {
      "cell_type": "code",
      "execution_count": null,
      "metadata": {
        "id": "tPDp9mrOL3ko"
      },
      "outputs": [],
      "source": [
        "\"\"\"\n",
        "Typcasting w. Strings\n",
        "\"\"\"\n",
        "\n",
        "# Convert these variables into strings and then back to their original data types. Print out each result as well as its data type. What do you notice about the last one?\n",
        "\n",
        "five = 5\n",
        "zero = 0\n",
        "neg_8 = -8\n",
        "T = True\n",
        "F = False"
      ]
    },
    {
      "cell_type": "markdown",
      "metadata": {
        "id": "zqkCRKIWL3kp"
      },
      "source": [
        "\n",
        "\n",
        "### P3.PY\n",
        "\n",
        "\n"
      ]
    },
    {
      "cell_type": "code",
      "execution_count": null,
      "metadata": {
        "id": "KfHqfFtEL3kp"
      },
      "outputs": [],
      "source": [
        "\"\"\"\n",
        "Booleans I - Typecasting w. Numbers\n",
        "\"\"\"\n",
        "\n",
        "# A) Use typecasting to turn these variables into boolean values. Print the result and the datatype of the result.\n",
        "\n",
        "one = 1\n",
        "zero = 0\n",
        "\n",
        "\n",
        "# B) Use typecasting to turn the resultant variables from part A into floats. Print the result and the datatype of the result.\n",
        "\n",
        "\n",
        "# C) Use typecasting to turn the resultant variables from part B back into booleans. Print the result and the datatype of the result.\n",
        "\n",
        "\n",
        "# C) Use typecasting to turn the resultant variables from part C into integers. Print the result and the datatype of the result.\n",
        "\n",
        "\n",
        "# E) Use typecasting to turn the variable below into a boolean value. Print the result and the datatype of the result.\n",
        "\n",
        "ten = 10\n",
        "\n"
      ]
    },
    {
      "cell_type": "markdown",
      "metadata": {
        "id": "oYZZSVayL3kq"
      },
      "source": [
        "\n",
        "\n",
        "### P4.PY\n",
        "\n",
        "\n"
      ]
    },
    {
      "cell_type": "code",
      "execution_count": null,
      "metadata": {
        "id": "by8bl_ILL3kq"
      },
      "outputs": [],
      "source": [
        "\"\"\"\n",
        "Booleans II - Typecasting w. Strings\n",
        "\"\"\"\n",
        "\n",
        "# A) Use typecasting to turn these variables into boolean values. Print the result and the datatype of the result.\n",
        "\n",
        "one = 1\n",
        "zero = 0\n",
        "bool_true = True\n",
        "bool_false = False\n",
        "\n",
        "\n",
        "# B) Use typecasting to turn the latest values for variables 'one' and 'zero' back into integers. Print the result and the datatype of the result.\n",
        "\n",
        "\n",
        "\n",
        "# C) Use typecasting to turn the latest values for variables 'bool_true' and 'bool_false' back into boolean values. Print the result and the datatype of the result.\n",
        "\n",
        "\n",
        "\n",
        "\n"
      ]
    },
    {
      "cell_type": "markdown",
      "metadata": {
        "id": "cicOrn54L3kq"
      },
      "source": [
        "\n",
        "\n",
        "## OPERATORS\n",
        "\n",
        "### P1.PY\n",
        "\n",
        "\n"
      ]
    },
    {
      "cell_type": "code",
      "execution_count": null,
      "metadata": {
        "id": "i4yRuUKOL3kr"
      },
      "outputs": [],
      "source": [
        "\"\"\"\n",
        "Integer & Float Operators\n",
        "\"\"\"\n",
        "\n",
        "# Complete the specified math operations. Do the next operation on the result from the previous operation.\n",
        "\n",
        "orig_var = 100\n",
        "\n",
        "# Add 50\n",
        "\n",
        "# Subtract 90\n",
        "\n",
        "# Multiply 10\n",
        "\n",
        "# Divide 150\n",
        "\n",
        "# Modulus 3\n"
      ]
    },
    {
      "cell_type": "markdown",
      "metadata": {
        "id": "EQvjo6CDL3kr"
      },
      "source": [
        "\n",
        "\n",
        "### P2.PY\n",
        "\n",
        "\n"
      ]
    },
    {
      "cell_type": "code",
      "execution_count": null,
      "metadata": {
        "id": "wEadKzgRL3kr"
      },
      "outputs": [],
      "source": [
        "\"\"\"\n",
        "String Operators\n",
        "\"\"\"\n",
        "\n",
        "# Create two variables, each of which is half of a compound sentence. Do NOT add any punctuation up front. Add the two variables together, and print the result.\n",
        "## Example compound sentence: \"I'll go to the beach today, and I'll go snorkeling.\""
      ]
    },
    {
      "cell_type": "markdown",
      "metadata": {
        "id": "Vj-mPvTmL3ks"
      },
      "source": [
        "\n",
        "\n",
        "### P3.PY\n",
        "\n",
        "\n"
      ]
    },
    {
      "cell_type": "code",
      "execution_count": null,
      "metadata": {
        "id": "VtlYMmy_L3ks"
      },
      "outputs": [],
      "source": [
        "\"\"\"\n",
        "Addition I - Numbers & Strings\n",
        "\"\"\"\n",
        "\n",
        "# Add the below sets of variables together.\n",
        "\n",
        "# A)\n",
        "a = 0\n",
        "b = 2\n",
        "\n",
        "\n",
        "\n",
        "# B)\n",
        "c = '0'\n",
        "d = '2'\n",
        "\n",
        "\n",
        "\n",
        "# C)\n",
        "e = \"0\"\n",
        "f = 2"
      ]
    },
    {
      "cell_type": "markdown",
      "metadata": {
        "id": "0fhBxlHBL3kt"
      },
      "source": [
        "\n",
        "\n",
        "### P4.PY\n",
        "\n",
        "\n"
      ]
    },
    {
      "cell_type": "code",
      "execution_count": null,
      "metadata": {
        "id": "XuLEFnkTL3ku"
      },
      "outputs": [],
      "source": [
        "\"\"\"\n",
        "Addition II - Booleans\n",
        "\"\"\"\n",
        "\n",
        "# Add the below sets of variables together.\n",
        "\n",
        "# A)\n",
        "a = True\n",
        "b = True\n",
        "\n",
        "\n",
        "\n",
        "# B)\n",
        "c = False\n",
        "d = False\n",
        "\n",
        "\n",
        "\n",
        "# C)\n",
        "e = True\n",
        "f = False"
      ]
    },
    {
      "cell_type": "markdown",
      "metadata": {
        "id": "FFPr0O6kL3ku"
      },
      "source": [
        "\n"
      ]
    }
  ]
}