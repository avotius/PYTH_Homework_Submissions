{
  "nbformat": 4,
  "nbformat_minor": 0,
  "metadata": {
    "colab": {
      "provenance": [],
      "authorship_tag": "ABX9TyMFEy+iG0aQ8fp7a7gJFi8s",
      "include_colab_link": true
    },
    "kernelspec": {
      "name": "python3",
      "display_name": "Python 3"
    },
    "language_info": {
      "name": "python"
    }
  },
  "cells": [
    {
      "cell_type": "markdown",
      "metadata": {
        "id": "view-in-github",
        "colab_type": "text"
      },
      "source": [
        "<a href=\"https://colab.research.google.com/github/avotius/PYTH_Homework_Submissions/blob/main/hw1.ipynb\" target=\"_parent\"><img src=\"https://colab.research.google.com/assets/colab-badge.svg\" alt=\"Open In Colab\"/></a>"
      ]
    },
    {
      "cell_type": "markdown",
      "metadata": {
        "id": "kne0TbO-5MFW"
      },
      "source": [
        "<a href=\"https://colab.research.google.com/github/mottaquikarim/PYTH2/blob/master/src/PSETS/nb/conditionals_inclass_psets.ipynb\" target=\"_parent\"><img src=\"https://colab.research.google.com/assets/colab-badge.svg\" alt=\"Open In Colab\"/></a>"
      ]
    },
    {
      "cell_type": "markdown",
      "metadata": {
        "id": "PAHqkOX95MFf"
      },
      "source": [
        "#  CONDITIONALS\n",
        "\n",
        "## WEATHER\n",
        "\n",
        "### P1.PY\n",
        "\n",
        "\n"
      ]
    },
    {
      "cell_type": "code",
      "execution_count": 39,
      "metadata": {
        "id": "eHJMP-8d5MFi",
        "colab": {
          "base_uri": "https://localhost:8080/"
        },
        "outputId": "89b716a0-6a19-40ee-a4be-d795ea8104e5"
      },
      "outputs": [
        {
          "output_type": "stream",
          "name": "stdout",
          "text": [
            "Try #1: Wrong\n",
            "Do I need snow boots? False\n",
            "Can I skip snow boots? False\n",
            "Do I need rain boots? False\n",
            "Can I skip rain boots? False\n",
            "\n",
            "Try #2: Wrong\n",
            "Do I need snow boots? True\n",
            "Can I skip snow boots? True\n",
            "Do I need rain boots? True\n",
            "Can I skip rain boots? True\n",
            "\n",
            "Try #3: Right\n",
            "Do I need snow boots? False\n",
            "Can I skip snow boots? True\n",
            "Do I need rain boots? True\n",
            "Can I skip rain boots? False\n"
          ]
        }
      ],
      "source": [
        "\"\"\"\n",
        "Weather I - Do you need boots?\n",
        "\"\"\"\n",
        "\n",
        "# Use the values of the vars defined below to ouput the correct contextual answer to the questions below. (Note: The variables themselves ARE the questions.)\n",
        "\n",
        "# Example:\n",
        "## am_i_hungry = False\n",
        "## am_i_tired = True\n",
        "## do_i_need_to_stay_awake = False\n",
        "\n",
        "## should_i_drink_coffee_now = am_i_tired and do_i_need_to_stay_awake\n",
        "\n",
        "## ^^ This ^^ evaluates to False. If you're tired and don't need to stay awake, you don't need to drink coffee!\n",
        "\n",
        "\n",
        "is_it_raining = True\n",
        "is_it_snowing = False\n",
        "\n",
        "# I was confused what I was supposed to do with the \"None\" variable. Was I supposed to replace it?\n",
        "# do_i_need_snow_boots = None\n",
        "# can_i_skip_snow_boots = None\n",
        "# do_i_need_rain_boots = None\n",
        "# can_i_skip_rain_boots = None\n",
        "\n",
        "# This just returns false on everything, so this must not be what I was susposed to do\n",
        "print(\"Try #1: Wrong\")\n",
        "do_i_need_snow_boots = is_it_raining and is_it_snowing\n",
        "can_i_skip_snow_boots = is_it_raining and is_it_snowing\n",
        "do_i_need_rain_boots = is_it_raining and is_it_snowing\n",
        "can_i_skip_rain_boots = is_it_raining and is_it_snowing\n",
        "\n",
        "print(\"Do I need snow boots?\",do_i_need_snow_boots)\n",
        "print(\"Can I skip snow boots?\",can_i_skip_snow_boots)\n",
        "print(\"Do I need rain boots?\",do_i_need_rain_boots)\n",
        "print(\"Can I skip rain boots?\",can_i_skip_rain_boots)\n",
        "\n",
        "\n",
        "print(\"\")\n",
        "# Looked in the class notes. This returned true to everything, so again not right\n",
        "print(\"Try #2: Wrong\")\n",
        "do_i_need_snow_boots = is_it_raining or is_it_snowing\n",
        "can_i_skip_snow_boots = is_it_raining or is_it_snowing\n",
        "do_i_need_rain_boots = is_it_raining or is_it_snowing\n",
        "can_i_skip_rain_boots = is_it_raining or is_it_snowing\n",
        "\n",
        "print(\"Do I need snow boots?\",do_i_need_snow_boots)\n",
        "print(\"Can I skip snow boots?\",can_i_skip_snow_boots)\n",
        "print(\"Do I need rain boots?\",do_i_need_rain_boots)\n",
        "print(\"Can I skip rain boots?\",can_i_skip_rain_boots)\n",
        "\n",
        "\n",
        "print(\"\")\n",
        "# I ended up asking ChatGPT what I was doing wrong and it understand a bit better what I should be doing.\n",
        "print(\"Try #3: Right\")\n",
        "do_i_need_snow_boots = is_it_snowing\n",
        "can_i_skip_snow_boots = not is_it_snowing\n",
        "do_i_need_rain_boots = is_it_raining\n",
        "can_i_skip_rain_boots = not is_it_raining\n",
        "\n",
        "print(\"Do I need snow boots?\",do_i_need_snow_boots)\n",
        "print(\"Can I skip snow boots?\",can_i_skip_snow_boots)\n",
        "print(\"Do I need rain boots?\",do_i_need_rain_boots)\n",
        "print(\"Can I skip rain boots?\",can_i_skip_rain_boots)\n"
      ]
    },
    {
      "cell_type": "code",
      "source": [
        "# To try and understand how the logical operator not worked here I reversed the true and false and reran it and it gave the opposite answer as one would expect, I think I can understand why.\n",
        "is_it_raining = False\n",
        "is_it_snowing = True\n",
        "\n",
        "# This is going to check the variable is_it_snowing which will return true\n",
        "do_i_need_snow_boots = is_it_snowing\n",
        "# This is going to check the variable is_it_snowing but will return the opposite of what it says?\n",
        "can_i_skip_snow_boots = not is_it_snowing\n",
        "# This is going to check the variable is_it_raining which will return false\n",
        "do_i_need_rain_boots = is_it_raining\n",
        "# This is going to check the variable is_it_raining but will return the opposite of what it says?\n",
        "can_i_skip_rain_boots = not is_it_raining\n",
        "\n",
        "print(\"Do I need snow boots?\",do_i_need_snow_boots)\n",
        "print(\"Can I skip snow boots?\",can_i_skip_snow_boots)\n",
        "print(\"Do I need rain boots?\",do_i_need_rain_boots)\n",
        "print(\"Can I skip rain boots?\",can_i_skip_rain_boots)"
      ],
      "metadata": {
        "colab": {
          "base_uri": "https://localhost:8080/"
        },
        "id": "R-yvAGqVGspj",
        "outputId": "9cc3e1ff-31b7-465b-8ad9-c447a7473a43"
      },
      "execution_count": 37,
      "outputs": [
        {
          "output_type": "stream",
          "name": "stdout",
          "text": [
            "Do I need snow boots? True\n",
            "Can I skip snow boots? False\n",
            "Do I need rain boots? False\n",
            "Can I skip rain boots? True\n"
          ]
        }
      ]
    },
    {
      "cell_type": "markdown",
      "metadata": {
        "id": "SZkJYxsR5MFm"
      },
      "source": [
        "\n",
        "\n",
        "### P2.PY\n",
        "\n",
        "\n"
      ]
    },
    {
      "cell_type": "code",
      "execution_count": 42,
      "metadata": {
        "id": "6-V8TI8z5MFn",
        "colab": {
          "base_uri": "https://localhost:8080/"
        },
        "outputId": "4f582d36-cec9-4a93-8438-cf8fd1b45756"
      },
      "outputs": [
        {
          "output_type": "stream",
          "name": "stdout",
          "text": [
            "Is it sunny? True\n",
            "Is there percipitation? True\n",
            "Is it sleeting? False\n",
            "Is there a rainbow? True\n"
          ]
        }
      ],
      "source": [
        "\"\"\"\n",
        "Weather II - Precipitation\n",
        "\"\"\"\n",
        "\n",
        "# Repeat the same process as p1, using this new set of variables.\n",
        "\n",
        "sunny = True\n",
        "raining = True\n",
        "snowing = False\n",
        "\n",
        "# Sun is something we don't get in Washington State so I had to look it up\n",
        "is_it_sunny = sunny\n",
        "# Percipitation can be rain, sleet, snow, or hail\n",
        "is_there_precipitation = raining or snowing\n",
        "# Sleet is ice pellets/frozen rain, sometimes mixes with rain or snow\n",
        "is_it_sleeting = not raining or snowing\n",
        "# Rainbows require sun and rain to make\n",
        "is_there_rainbow = sunny and raining\n",
        "\n",
        "print(\"Is it sunny?\",is_it_sunny)\n",
        "print(\"Is there percipitation?\",is_there_precipitation)\n",
        "print(\"Is it sleeting?\",is_it_sleeting)\n",
        "print(\"Is there a rainbow?\",is_there_rainbow)"
      ]
    },
    {
      "cell_type": "markdown",
      "metadata": {
        "id": "n_aE0LwC5MFp"
      },
      "source": [
        "\n",
        "\n",
        "### P3.PY\n",
        "\n",
        "\n"
      ]
    },
    {
      "cell_type": "code",
      "execution_count": 49,
      "metadata": {
        "id": "ZjtYYobc5MFq",
        "colab": {
          "base_uri": "https://localhost:8080/"
        },
        "outputId": "239be676-d63c-4dec-a967-cf99749cad2a"
      },
      "outputs": [
        {
          "output_type": "stream",
          "name": "stdout",
          "text": [
            "Is it summer weather? True\n",
            "Is rain coming? False\n",
            "Is it muggy? True\n",
            "Do I need a coat? False\n"
          ]
        }
      ],
      "source": [
        "\"\"\"\n",
        "Weather III - Describe Conditions\n",
        "\"\"\"\n",
        "\n",
        "# Repeat the same process as p1, using this new set of variables.\n",
        "\n",
        "\n",
        "is_it_warm = True\n",
        "is_it_humid = True\n",
        "is_it_cold = False\n",
        "is_it_icy = False\n",
        "is_it_foggy = False\n",
        "is_it_windy = False\n",
        "is_it_overcast = True\n",
        "\n",
        "# It has been so long, summer is warm right?\n",
        "is_it_summer_weather = is_it_warm\n",
        "# Around here, if it is overcast and windy, it means we are in for rain, then again we get rain even with there are no clouds in the sky...\n",
        "is_rain_coming = is_it_overcast and is_it_windy\n",
        "# Trying to chain OR and a AND in a conditional\n",
        "is_it_muggy = is_it_humid or (is_it_warm and is_it_foggy)\n",
        "# Trying to user one of the previously assigned conditional variable from line 18\n",
        "do_i_need_coat = is_it_cold or is_rain_coming or is_it_icy\n",
        "\n",
        "print(\"Is it summer weather?\",is_it_summer_weather)\n",
        "print(\"Is rain coming?\",is_rain_coming)\n",
        "print(\"Is it muggy?\",is_it_muggy)\n",
        "print(\"Do I need a coat?\",do_i_need_coat)"
      ]
    },
    {
      "cell_type": "markdown",
      "metadata": {
        "id": "QS5zCyld5MFs"
      },
      "source": [
        "\n",
        "\n",
        "## LOGIC\n",
        "\n",
        "### P1.PY\n",
        "\n",
        "\n"
      ]
    },
    {
      "cell_type": "code",
      "execution_count": 71,
      "metadata": {
        "id": "rvb870-w5MFt",
        "colab": {
          "base_uri": "https://localhost:8080/"
        },
        "outputId": "473937fb-6794-49be-e9fe-6614d8dbec88"
      },
      "outputs": [
        {
          "output_type": "stream",
          "name": "stdout",
          "text": [
            "You got an -F! Eternal silent treatment\n"
          ]
        }
      ],
      "source": [
        "\"\"\"\n",
        "Calculate Grade\n",
        "\"\"\"\n",
        "\n",
        "grade = 15  # expect this to be a number\n",
        "\n",
        "# write a program that will print the \"letter\"\n",
        "# equivalent of the grade, for example:\n",
        "# when grade = 90 # -> expect A\n",
        "# when grade = 80 # -> expect B\n",
        "# when grade = 70 # -> expect C\n",
        "# when grade = 60 # -> expect D\n",
        "# when grade = 54 # -> expect F\n",
        "# when grade = -10 # -> expect Error\n",
        "# when grade = 10000 # -> expect Error\n",
        "# when grade = \"lol skool sucks\" # -> expect Error\n",
        "\n",
        "\n",
        "# Looks like I will have to use conditional statements for this\n",
        "## Can you guess that my mother was Chinese?\n",
        "if grade >= 90:\n",
        "    print(\"You got an A! Your mother will be somwhat satisfied\")\n",
        "elif grade >= 80:\n",
        "    print(\"You got an B! Your mother will not approve\")\n",
        "elif grade >= 70:\n",
        "    print(\"You got an C! Your mother will kick you out of the house\")\n",
        "elif grade >= 60:\n",
        "    print(\"You got an D! Your mother will disown you\")\n",
        "elif grade >= 54:\n",
        "    print(\"You got an F! Your mother will blame this on your father\")\n",
        "elif grade >= 0:\n",
        "    print(\"You got an -F! Eternal silent treatment\")\n",
        "elif grade <= -1:\n",
        "    print(\"Shame error! Your descendants will be shamed for 10 generations\")\n",
        "elif grade >= 10000:\n",
        "    print(\"Super Grade Error: AAAAA+++++!!!!1 Your mother now expects you to become a doctor\")\n",
        "elif grade == \"lol skool sucks\":\n",
        "    print(\"Your mother has bought a Super Bowl commercial to broadcast what a disapointment you are\")\n",
        "else: print(\"COSMIC ERROR\")"
      ]
    },
    {
      "cell_type": "markdown",
      "metadata": {
        "id": "kwuRo-vw5MFv"
      },
      "source": [
        "\n",
        "\n",
        "### P2.PY\n",
        "\n",
        "\n"
      ]
    },
    {
      "cell_type": "code",
      "execution_count": 1,
      "metadata": {
        "id": "sBuqfZC75MFw",
        "colab": {
          "base_uri": "https://localhost:8080/"
        },
        "outputId": "2049c1cd-7a81-401d-9245-5a7c2b98c303"
      },
      "outputs": [
        {
          "output_type": "stream",
          "name": "stdout",
          "text": [
            "Part A:\n",
            " 1\n",
            "\n",
            "Part B:\n",
            " -1\n"
          ]
        }
      ],
      "source": [
        "from typing_extensions import Counter\n",
        "\"\"\"\n",
        "Sign of Product\n",
        "\"\"\"\n",
        "\n",
        "# Given three numbers, a, b, c, without multiplying, determine the sign of their product.\n",
        "\n",
        "# EXAMPLE: a = -5, b = 6, c = -4, print 1\n",
        "\n",
        "a = -5\n",
        "b = 6\n",
        "c = -4\n",
        "\n",
        "def sign_of_product(a, b, c):\n",
        "# Count negative numbers, I had to get help for this part\n",
        "  negatives = sum([num < 0 for num in [a, b, c]])\n",
        "# Find sign based on count of negative numbers\n",
        "  if negatives % 2 == 0:\n",
        "    return 1\n",
        "  else:\n",
        "    return -1\n",
        "print(\"Part A:\\n\",sign_of_product(a,b,c))\n",
        "\n",
        "## This question really stretched my limits of understanding, I spent over 2 hours on it\n",
        "\n",
        "# EXAMPLE: a = 5, b = 6, c = -4, print -1\n",
        "\n",
        "a = 5\n",
        "b = 6\n",
        "c = -4\n",
        "\n",
        "def sign_of_product(a, b, c):\n",
        "# Count negative numbers, I had to get help for this part\n",
        "  negatives = sum([num < 0 for num in [a, b, c]])\n",
        "# Find sign based on count of negative numbers\n",
        "  if negatives % 2 == 0:\n",
        "    return 1\n",
        "  else:\n",
        "    return -1\n",
        "print(\"\")\n",
        "print(\"Part B:\\n\",sign_of_product(a,b,c))"
      ]
    },
    {
      "cell_type": "markdown",
      "metadata": {
        "id": "MeGCto1S5MFx"
      },
      "source": [
        "\n",
        "\n",
        "### P3.PY\n",
        "\n",
        "\n"
      ]
    },
    {
      "cell_type": "code",
      "execution_count": 100,
      "metadata": {
        "id": "lLWqau-y5MFx",
        "colab": {
          "base_uri": "https://localhost:8080/"
        },
        "outputId": "58dca122-472d-4be6-c42e-93d66977e219"
      },
      "outputs": [
        {
          "output_type": "stream",
          "name": "stdout",
          "text": [
            "True\n"
          ]
        }
      ],
      "source": [
        "\"\"\"\n",
        "Any Uppercase\n",
        "\"\"\"\n",
        "\n",
        "# Given a string str, determine if there are any uppercase values in it. Use only conditional statements and string methods (you may have to look some up!)\n",
        "\n",
        "# EXAMPLE: str = \"teSt\", print True\n",
        "\n",
        "string = \"teSt\"\n",
        "\n",
        "# Here I am defining a function to check the variable \"string\" for uppercase letters\n",
        "def contains_uppercase(string):\n",
        "# Looked up something that could recognize individual characters in a string and found \"char\" that indicates anything that is a part of text\n",
        "  for char in string:\n",
        "# isupper() is used together with char to loop through the string and see if a character in char is uppercase\n",
        "    if char.isupper():\n",
        "      return True\n",
        "  return False\n",
        "\n",
        "print(contains_uppercase(string))\n"
      ]
    },
    {
      "cell_type": "markdown",
      "metadata": {
        "id": "8dl6qMQI5MFy"
      },
      "source": [
        "\n",
        "\n",
        "### P4.PY\n",
        "\n",
        "\n"
      ]
    },
    {
      "cell_type": "code",
      "execution_count": 104,
      "metadata": {
        "id": "HRDHcX4u5MFz",
        "colab": {
          "base_uri": "https://localhost:8080/"
        },
        "outputId": "46cb16f0-11c3-4bf1-f0d8-92c0a0837fa1"
      },
      "outputs": [
        {
          "output_type": "stream",
          "name": "stdout",
          "text": [
            "True\n",
            "True\n",
            "True\n",
            "False\n"
          ]
        }
      ],
      "source": [
        "\"\"\"\n",
        "Empty Strings\n",
        "\"\"\"\n",
        "\n",
        "# Given any empty string, of the form:\n",
        "\n",
        "# ''\n",
        "# ' '\n",
        "# '  '\n",
        "# any other num of spaces...\n",
        "\n",
        "# determine if the str is empty or not (print True or False). Hint: You'll need to look up how to remove trailing spaces from a string.\n",
        "\n",
        "''\n",
        "' '\n",
        "'  '\n",
        "'not empty'\n",
        "\n",
        "def empty(s):\n",
        "# Remove leading/trailing whitespaces\n",
        "  stripped_string = s.strip()\n",
        "# Is the stripped string empty\n",
        "  if stripped_string == '':\n",
        "    return True\n",
        "  else:\n",
        "    return False\n",
        "\n",
        "print(empty(''))\n",
        "print(empty(' '))\n",
        "print(empty('  '))\n",
        "print(empty('Not empty'))\n",
        "\n"
      ]
    },
    {
      "cell_type": "markdown",
      "metadata": {
        "id": "uPXDthWY5MFz"
      },
      "source": [
        "\n",
        "\n",
        "### P5.PY\n",
        "\n",
        "\n"
      ]
    },
    {
      "cell_type": "code",
      "execution_count": 11,
      "metadata": {
        "id": "vJ08CP9b5MF0",
        "colab": {
          "base_uri": "https://localhost:8080/"
        },
        "outputId": "e6471d7e-7e90-4abf-c137-ff0a82e5b34a"
      },
      "outputs": [
        {
          "output_type": "stream",
          "name": "stdout",
          "text": [
            "True\n"
          ]
        }
      ],
      "source": [
        "\"\"\"\n",
        "truthTableEvaluator\n",
        "\"\"\"\n",
        "\n",
        "# Given the following inputs:\n",
        "\n",
        "\n",
        "# P = # True or False\n",
        "# Q = # True or False\n",
        "# op = # '^' (logical AND, conjunction)\n",
        "#      # OR, 'v' (logical OR, disjunction)\n",
        "#      # OR, '->' (logical conditional, implication)\n",
        "#      # OR, '<->' (biconditional)\n",
        "# determine the correct outcome.\n",
        "\n",
        "# https://medium.com/i-math/intro-to-truth-tables-boolean-algebra-73b331dd9b94\n",
        "\n",
        "\n",
        "# I think I am susposed to use the P,Q,op from your example, but I didn't understand what to do with the other OR's and fed them one at a time into the op = and got true every time\n",
        "\n",
        "P = True or False\n",
        "Q = True or False\n",
        "op = '^'\n",
        "# '^' 'v' '->' '<->'\n",
        "\n",
        "def logic(P,Q,op):\n",
        "# and operator, logical conjustion, both have to be true\n",
        "  if op == '^':\n",
        "    return P and Q\n",
        "# or operator, one has to be true\n",
        "  elif op == 'v':\n",
        "    return P or Q\n",
        "# Logical implication, if-then\n",
        "  elif op == '->':\n",
        "    return not P or Q\n",
        "# Bi conditional. if and only if\n",
        "  elif op == '<->':\n",
        "    return P == Q\n",
        "  else:\n",
        "    return \"Nooooope\"\n",
        "\n",
        "print(logic(P,Q,op))\n",
        "# Everything I print out is true. I think I did this wrong.\n"
      ]
    },
    {
      "cell_type": "markdown",
      "metadata": {
        "id": "TBQ5Ogat5MF1"
      },
      "source": [
        "\n",
        "\n",
        "## RANDOM_NUMS\n",
        "\n",
        "### P1.PY\n",
        "\n",
        "\n"
      ]
    },
    {
      "cell_type": "code",
      "execution_count": 70,
      "metadata": {
        "id": "zcc4LRBB5MF1",
        "colab": {
          "base_uri": "https://localhost:8080/"
        },
        "outputId": "dfbb8d9b-7e6e-4a8f-ed8e-ca5f954b5025"
      },
      "outputs": [
        {
          "output_type": "stream",
          "name": "stdout",
          "text": [
            "3\n"
          ]
        }
      ],
      "source": [
        "\"\"\"\n",
        "Generate Traffic Light\n",
        "\"\"\"\n",
        "\n",
        "# import python random package\n",
        "\n",
        "\n",
        "# generates a random number from 1 to 3\n",
        "\n",
        "\n",
        "# if 1, print 'red'\n",
        "# if 2, print 'green',\n",
        "# if 3, print 'yellow'\n",
        "\n",
        "# Looked for the class notes, could have sworn there was something about random number generators in there,\n",
        "# couldn't find it,\n",
        "# looked at examples of how to use random here: https://www.geeksforgeeks.org/random-numbers-in-python/\n",
        "import random\n",
        "# Made a list to limit the number of choices the random generator can give\n",
        "possible_number_list = [1,2,3]\n",
        "# Using the .choice with random lets it choose a number from the list\n",
        "number = random.choice(possible_number_list)\n",
        "print(number)\n",
        "# If only winning lottery numbers were this easy to pick"
      ]
    },
    {
      "cell_type": "markdown",
      "metadata": {
        "id": "5stU6WAj5MF2"
      },
      "source": [
        "\n",
        "\n",
        "### P2.PY\n",
        "\n",
        "\n"
      ]
    },
    {
      "cell_type": "code",
      "execution_count": 69,
      "metadata": {
        "id": "KlOmQR6F5MF2",
        "colab": {
          "base_uri": "https://localhost:8080/"
        },
        "outputId": "a1a1836c-11f0-41df-a829-5d3fa1e0ca91"
      },
      "outputs": [
        {
          "output_type": "stream",
          "name": "stdout",
          "text": [
            "1-646-234-5180\n"
          ]
        }
      ],
      "source": [
        "\"\"\"\n",
        "Generate Phone Number w/Area Code\n",
        "\"\"\"\n",
        "\n",
        "# import python random package\n",
        "\n",
        "\n",
        "# generate a random phone number of the form:\n",
        "# 1-718-786-2825\n",
        "# This should be a string\n",
        "# Valid Area Codes are: 646, 718, 212\n",
        "# if phone number doesn't have [646, 718, 212]\n",
        "# as area code, pick one of the above at random\n",
        "\n",
        "import random\n",
        "# These are the only area codes the random number generator can pick\n",
        "use_area_codes = [646, 718, 212]\n",
        "# Make the tool\n",
        "def generate_phone_num():\n",
        "# Choose one of the area codes that are allowed from the list\n",
        "  area_code = random.choice(use_area_codes)\n",
        "# Generate a number for the middle 3 digits. My original range was 000,999, then I noticed when printing this will give a 81, not 081, so I changed the range to always give 3 digits\n",
        "  middle_three = random.randint(100,999)\n",
        "# Generate a number for the last 4 digits. I made the same change here so it would print 4 numbers but that means it can't print something like 0643, but maybe it is a small town and that's ok ¯\\_( ͡° ͜ʖ ͡°)_/¯\n",
        "  last_four = random.randint(1000,9999)\n",
        "# Put everything together with the assumption that every number will start with a 1- and be a 3/4/3 layout\n",
        "  return(f\"1-{area_code}-{middle_three}-{last_four}\")\n",
        "\n",
        "print(generate_phone_num())"
      ]
    },
    {
      "cell_type": "markdown",
      "metadata": {
        "id": "_hdvKs2l5MF3"
      },
      "source": [
        "\n"
      ]
    }
  ]
}