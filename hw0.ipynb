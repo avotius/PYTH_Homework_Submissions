{
  "nbformat": 4,
  "nbformat_minor": 0,
  "metadata": {
    "colab": {
      "provenance": []
    },
    "kernelspec": {
      "name": "python3",
      "display_name": "Python 3"
    },
    "language_info": {
      "name": "python"
    }
  },
  "cells": [
    {
      "cell_type": "code",
      "execution_count": null,
      "metadata": {
        "id": "tnsE0L3y8iuA"
      },
      "outputs": [],
      "source": []
    },
    {
      "cell_type": "markdown",
      "metadata": {
        "id": "H3tmNlxU77O2"
      },
      "source": [
        "<a href=\"https://colab.research.google.com/github/mottaquikarim/PYTH2/blob/master/src/PSETS/nb/basic_data_inclass_psets.ipynb\" target=\"_parent\"><img src=\"https://colab.research.google.com/assets/colab-badge.svg\" alt=\"Open In Colab\"/></a>"
      ]
    },
    {
      "cell_type": "markdown",
      "metadata": {
        "id": "20heUqx677O8"
      },
      "source": [
        "#  BASIC DATA TYPES\n",
        "\n",
        "## BASICS\n",
        "\n",
        "### P1.PY\n",
        "\n",
        "\n"
      ]
    },
    {
      "cell_type": "code",
      "execution_count": 19,
      "metadata": {
        "id": "6USgb90G77O9",
        "colab": {
          "base_uri": "https://localhost:8080/",
          "height": 176
        },
        "outputId": "24c4aecb-53a8-469e-fcb6-aa5299da6256"
      },
      "outputs": [
        {
          "output_type": "error",
          "ename": "NameError",
          "evalue": "name 'something' is not defined",
          "traceback": [
            "\u001b[0;31m---------------------------------------------------------------------------\u001b[0m",
            "\u001b[0;31mNameError\u001b[0m                                 Traceback (most recent call last)",
            "\u001b[0;32m<ipython-input-19-6c4b7c7284ea>\u001b[0m in \u001b[0;36m<cell line: 8>\u001b[0;34m()\u001b[0m\n\u001b[1;32m      6\u001b[0m \u001b[0;34m\u001b[0m\u001b[0m\n\u001b[1;32m      7\u001b[0m \u001b[0;34m\u001b[0m\u001b[0m\n\u001b[0;32m----> 8\u001b[0;31m \u001b[0mtemp\u001b[0m \u001b[0;34m=\u001b[0m \u001b[0msomething\u001b[0m\u001b[0;34m\u001b[0m\u001b[0;34m\u001b[0m\u001b[0m\n\u001b[0m",
            "\u001b[0;31mNameError\u001b[0m: name 'something' is not defined"
          ]
        }
      ],
      "source": [
        "\"\"\"\n",
        "Placeholders\n",
        "\"\"\"\n",
        "\n",
        "# You're writing a program, and you don't know what your starting value for your 'initial' variable is yet. The program won't run if you leave it blank, but you don't want to forget you need it! Make a workaround.\n",
        "\n",
        "\n",
        "temp = something"
      ]
    },
    {
      "cell_type": "markdown",
      "metadata": {
        "id": "fIyfxr-277PA"
      },
      "source": [
        "\n",
        "\n",
        "### P2.PY\n",
        "\n",
        "\n"
      ]
    },
    {
      "cell_type": "code",
      "execution_count": 18,
      "metadata": {
        "id": "Z3Ujq6-A77PA",
        "colab": {
          "base_uri": "https://localhost:8080/"
        },
        "outputId": "1d78fb27-1328-4d57-cd57-3480e296bdc3"
      },
      "outputs": [
        {
          "output_type": "stream",
          "name": "stdout",
          "text": [
            "6\n",
            "cyan\n"
          ]
        }
      ],
      "source": [
        "\"\"\"\n",
        "Basic Variables\n",
        "\"\"\"\n",
        "\n",
        "# Create a variable that represents your favorite number, and add a note to remind yourself what this variable represents. Now print it out without re-typing the number.\n",
        "\n",
        "\n",
        "# Your favorite number is 6, remember? What food is traditionally eaten in the month you celebrate the number 6?\n",
        "six = 6\n",
        "turkey = six\n",
        "print(turkey)\n",
        "\n",
        "\n",
        "# Create another variable that represents your favorite color, and do the same steps as above.\n",
        "\n",
        "\n",
        "# The color that all comic sans should be displayed in.\n",
        "color = \"cyan\"\n",
        "comic_sans = color\n",
        "print(comic_sans)"
      ]
    },
    {
      "cell_type": "markdown",
      "metadata": {
        "id": "axhL6QJL77PB"
      },
      "source": [
        "\n",
        "\n",
        "### P3.PY\n",
        "\n",
        "\n"
      ]
    },
    {
      "cell_type": "code",
      "execution_count": 20,
      "metadata": {
        "id": "qdKKpz2y77PC",
        "colab": {
          "base_uri": "https://localhost:8080/"
        },
        "outputId": "1a216964-a8ba-4bfb-ffd0-8bd82f8b34af"
      },
      "outputs": [
        {
          "output_type": "stream",
          "name": "stdout",
          "text": [
            "If I could be with my life\n",
            "I wouldn′t waste anymore time in the nightland\n",
            "I've run careless as you find me dancin\n",
            "I found my body\n"
          ]
        }
      ],
      "source": [
        "\"\"\"\n",
        "String Formatting\n",
        "\"\"\"\n",
        "\n",
        "# Create a variable that contains the first 4 lines of your favorite song. Add a comment that includes the song title and artist **each on their own line**! Now print out this variable.\n",
        "\n",
        "\n",
        "# Song name: Part XI\n",
        "# Artist: Prequell, Fyfe\n",
        "part_xi = \"If I could be with my life\\nI wouldn′t waste anymore time in the nightland\\nI've run careless as you find me dancin\\nI found my body\"\n",
        "print(part_xi)"
      ]
    },
    {
      "cell_type": "markdown",
      "metadata": {
        "id": "xrHAM8zQ77PC"
      },
      "source": [
        "\n",
        "\n",
        "## TYPECASTING\n",
        "\n",
        "### P1.PY\n",
        "\n",
        "\n"
      ]
    },
    {
      "cell_type": "code",
      "execution_count": 21,
      "metadata": {
        "id": "WzoVEHLu77PD",
        "colab": {
          "base_uri": "https://localhost:8080/"
        },
        "outputId": "cd3380e5-2ac8-4d3f-ffc9-4e53b8ffc8c0"
      },
      "outputs": [
        {
          "output_type": "stream",
          "name": "stdout",
          "text": [
            "5.0 <class 'float'>\n",
            "0.0 <class 'float'>\n",
            "-8.0 <class 'float'>\n",
            "-22.0 <class 'float'>\n",
            "5 <class 'int'>\n",
            "0 <class 'int'>\n",
            "-8 <class 'int'>\n",
            "-22 <class 'int'>\n"
          ]
        }
      ],
      "source": [
        "\"\"\"\n",
        "Typcasting w. Integers & Floats\n",
        "\"\"\"\n",
        "\n",
        "# Convert these numbers into floats and back. Print out each result as well as its data type.\n",
        "\n",
        "five = 5\n",
        "zero = 0\n",
        "neg_8 = -8\n",
        "neg_22 = -22\n",
        "\n",
        "\n",
        "# This should convert the variables in lines 84, 85, 86, 87 into floats:\n",
        "float_five = float(five)\n",
        "float_zero = float(zero)\n",
        "float_neg_8 = float(neg_8)\n",
        "float_neg_22 = float(neg_22)\n",
        "\n",
        "print(float_five,type(float_five))\n",
        "print(float_zero,type(float_zero))\n",
        "print(float_neg_8,type(float_neg_8))\n",
        "print(float_neg_22,type(float_neg_22))\n",
        "\n",
        "# This will convert the variables in lines 91, 92, 93, 94 into integers:\n",
        "int_five = int(float_five)\n",
        "int_zero = int(float_zero)\n",
        "int_neg_8 = int(float_neg_8)\n",
        "int_neg_22 = int(float_neg_22)\n",
        "\n",
        "print(int_five,type(int_five))\n",
        "print(int_zero,type(int_zero))\n",
        "print(int_neg_8,type(int_neg_8))\n",
        "print(int_neg_22,type(int_neg_22))"
      ]
    },
    {
      "cell_type": "markdown",
      "metadata": {
        "id": "gPSsrP-d77PE"
      },
      "source": [
        "\n",
        "\n",
        "### P2.PY\n",
        "\n",
        "\n"
      ]
    },
    {
      "cell_type": "code",
      "execution_count": 22,
      "metadata": {
        "id": "vCZ9o1Au77PE",
        "colab": {
          "base_uri": "https://localhost:8080/"
        },
        "outputId": "ccc9dd65-d189-4955-f593-9215d3c38a65"
      },
      "outputs": [
        {
          "output_type": "stream",
          "name": "stdout",
          "text": [
            "\n",
            "Here are the original variable types:\n",
            "5 <class 'int'>\n",
            "0 <class 'int'>\n",
            "-8 <class 'int'>\n",
            "True <class 'bool'>\n",
            "False <class 'bool'>\n",
            "\n",
            "Here are the original variables converted into strings:\n",
            "5 <class 'str'>\n",
            "0 <class 'str'>\n",
            "-8 <class 'str'>\n",
            "True <class 'str'>\n",
            "False <class 'str'>\n",
            "\n",
            "Here are the converted variables reconverted back to their original type, but with an issue with the False boolean:\n",
            "5 <class 'int'>\n",
            "0 <class 'int'>\n",
            "-8 <class 'int'>\n",
            "True <class 'bool'>\n",
            "True <class 'bool'>\n",
            "\n",
            "Here are the converted variables reconverted back to their orignal type with corrected False boolean:\n",
            "5 <class 'int'>\n",
            "0 <class 'int'>\n",
            "-8 <class 'int'>\n",
            "True <class 'bool'>\n",
            "False <class 'bool'>\n"
          ]
        }
      ],
      "source": [
        "\"\"\"\n",
        "Typcasting w. Strings\n",
        "\"\"\"\n",
        "\n",
        "# Convert these variables into strings and then back to their original data types. Print out each result as well as its data type. What do you notice about the last one?\n",
        "\n",
        "five = 5\n",
        "zero = 0\n",
        "neg_8 = -8\n",
        "T = True\n",
        "F = False\n",
        "\n",
        "\n",
        "# As I went on I think the answers are starting to get hard to read so I started messing with formatting them.\n",
        "# This step is to check the original types of the variables:\n",
        "print(\"\")\n",
        "print(\"Here are the original variable types:\")\n",
        "print(five,type(five))\n",
        "print(zero,type(zero))\n",
        "print(neg_8,type(neg_8))\n",
        "print(T,type(T))\n",
        "print(F,type(F))\n",
        "\n",
        "# This will convert the variables in lines 126, 127, 128, 129, 130 into strings:\n",
        "string_five = str(five)\n",
        "string_zero = str(zero)\n",
        "string_neg_8 = str(neg_8)\n",
        "string_T = str(T)\n",
        "string_F = str(F)\n",
        "\n",
        "print(\"\")\n",
        "print(\"Here are the original variables converted into strings:\")\n",
        "print(string_five,type(string_five))\n",
        "print(string_zero,type(string_zero))\n",
        "print(string_neg_8,type(string_neg_8))\n",
        "print(string_T,type(string_T))\n",
        "print(string_F,type(string_F))\n",
        "\n",
        "# This will convert the variables in lines 141, 142, 143, 144, 145 into their original type:\n",
        "int_five = int(string_five)\n",
        "int_zero = int(string_zero)\n",
        "int_neg_8 = int(neg_8)\n",
        "bool_T = bool(string_T)\n",
        "bool_F = bool(string_F)\n",
        "\n",
        "# This will inproperly print bool_F as 'True' but I dont know why:\n",
        "print(\"\")\n",
        "print(\"Here are the converted variables reconverted back to their original type, but with an issue with the False boolean:\")\n",
        "print(int_five,type(int_five))\n",
        "print(int_zero,type(int_zero))\n",
        "print(int_neg_8,type(int_neg_8))\n",
        "print(bool_T,type(bool_T))\n",
        "print(bool_F,type(bool_F))\n",
        "\n",
        "# This will correct the bool_F error:\n",
        "bool_F = False\n",
        "\n",
        "# This will properly print bool_F as 'False':\n",
        "print(\"\")\n",
        "print(\"Here are the converted variables reconverted back to their orignal type with corrected False boolean:\")\n",
        "print(int_five,type(int_five))\n",
        "print(int_zero,type(int_zero))\n",
        "print(int_neg_8,type(int_neg_8))\n",
        "print(bool_T,type(bool_T))\n",
        "print(bool_F,type(bool_F))\n",
        "\n",
        "# Is there a better way to make blank lines between these blocks?\n"
      ]
    },
    {
      "cell_type": "markdown",
      "metadata": {
        "id": "x0zhvG2477PG"
      },
      "source": [
        "\n",
        "\n",
        "### P3.PY\n",
        "\n",
        "\n"
      ]
    },
    {
      "cell_type": "code",
      "execution_count": 23,
      "metadata": {
        "id": "AOjUldP477PG",
        "colab": {
          "base_uri": "https://localhost:8080/"
        },
        "outputId": "aebc20b4-f899-49eb-8b70-b47148133f5d"
      },
      "outputs": [
        {
          "output_type": "stream",
          "name": "stdout",
          "text": [
            "\n",
            "Section A:\n",
            "True <class 'bool'>\n",
            "False <class 'bool'>\n",
            "\n",
            "Section B:\n",
            "1.0 <class 'float'>\n",
            "0.0 <class 'float'>\n",
            "\n",
            "Section C:\n",
            "True <class 'bool'>\n",
            "False <class 'bool'>\n",
            "\n",
            "Section D:\n",
            "1 <class 'int'>\n",
            "0 <class 'int'>\n",
            "\n",
            "Section E:\n",
            "True <class 'bool'>\n"
          ]
        }
      ],
      "source": [
        "\"\"\"\n",
        "Booleans I - Typecasting w. Numbers\n",
        "\"\"\"\n",
        "\n",
        "# A) Use typecasting to turn these variables into boolean values. Print the result and the datatype of the result.\n",
        "\n",
        "one = 1\n",
        "zero = 0\n",
        "\n",
        "\n",
        "bool_one = bool(one)\n",
        "bool_zero = bool(zero)\n",
        "\n",
        "print(\"\")\n",
        "print(\"Section A:\")\n",
        "print(bool_one,type(bool_one))\n",
        "print(bool_zero,type(bool_zero))\n",
        "\n",
        "\n",
        "# B) Use typecasting to turn the resultant variables from part A into floats. Print the result and the datatype of the result.\n",
        "\n",
        "\n",
        "float_one = float(bool_one)\n",
        "float_zero = float(bool_zero)\n",
        "\n",
        "print(\"\")\n",
        "print(\"Section B:\")\n",
        "print(float_one,type(float_one))\n",
        "print(float_zero,type(float_zero))\n",
        "\n",
        "\n",
        "# C) Use typecasting to turn the resultant variables from part B back into booleans. Print the result and the datatype of the result.\n",
        "\n",
        "\n",
        "bool2_one = bool(float_one)\n",
        "bool2_zero = bool(float_zero)\n",
        "\n",
        "print(\"\")\n",
        "print(\"Section C:\")\n",
        "print(bool2_one,type(bool2_one))\n",
        "print(bool2_zero,type(bool2_zero))\n",
        "\n",
        "\n",
        "# C) Use typecasting to turn the resultant variables from part C into integers. Print the result and the datatype of the result.\n",
        "\n",
        "\n",
        "int_one = int(bool2_one)\n",
        "int_zero = int(bool2_zero)\n",
        "\n",
        "print(\"\")\n",
        "print(\"Section D:\")\n",
        "print(int_one, type(int_one))\n",
        "print(int_zero, type(int_zero))\n",
        "\n",
        "\n",
        "# E) Use typecasting to turn the variable below into a boolean value. Print the result and the datatype of the result.\n",
        "\n",
        "ten = 10\n",
        "\n",
        "\n",
        "bool_ten = bool(ten)\n",
        "\n",
        "print(\"\")\n",
        "print(\"Section E:\")\n",
        "print(bool_ten, type(bool_ten))"
      ]
    },
    {
      "cell_type": "markdown",
      "metadata": {
        "id": "rovO8_Ic77PH"
      },
      "source": [
        "\n",
        "\n",
        "### P4.PY\n",
        "\n",
        "\n"
      ]
    },
    {
      "cell_type": "code",
      "execution_count": 24,
      "metadata": {
        "id": "EcNagofs77PI",
        "colab": {
          "base_uri": "https://localhost:8080/"
        },
        "outputId": "cfebf6e5-2174-45d9-9684-e3560f177e93"
      },
      "outputs": [
        {
          "output_type": "stream",
          "name": "stdout",
          "text": [
            "\n",
            "Section A:\n",
            "True <class 'bool'>\n",
            "False <class 'bool'>\n",
            "True <class 'bool'>\n",
            "False <class 'bool'>\n",
            "\n",
            "Section B:\n",
            "1 <class 'int'>\n",
            "0 <class 'int'>\n",
            "\n",
            "Section C:\n",
            "True <class 'bool'>\n",
            "False <class 'bool'>\n"
          ]
        }
      ],
      "source": [
        "\"\"\"\n",
        "Booleans II - Typecasting w. Strings\n",
        "\"\"\"\n",
        "\n",
        "# A) Use typecasting to turn these variables into boolean values. Print the result and the datatype of the result.\n",
        "\n",
        "one = 1\n",
        "zero = 0\n",
        "bool_true = True\n",
        "bool_false = False\n",
        "\n",
        "\n",
        "bool_one = bool(one)\n",
        "bool_zero = bool(zero)\n",
        "\n",
        "print(\"\")\n",
        "print(\"Section A:\")\n",
        "print(bool_one,type(bool_one))\n",
        "print(bool_zero,type(bool_zero))\n",
        "print(bool_true,type(bool_true))\n",
        "print(bool_false,type(bool_false))\n",
        "\n",
        "\n",
        "# B) Use typecasting to turn the latest values for variables 'one' and 'zero' back into integers. Print the result and the datatype of the result.\n",
        "\n",
        "\n",
        "int_one = int(bool_one)\n",
        "int_zero = int(bool_zero)\n",
        "\n",
        "print(\"\")\n",
        "print(\"Section B:\")\n",
        "print(int_one,type(int_one))\n",
        "print(int_zero,type(int_zero))\n",
        "\n",
        "\n",
        "# C) Use typecasting to turn the latest values for variables 'bool_true' and 'bool_false' back into boolean values. Print the result and the datatype of the result.\n",
        "\n",
        "\n",
        "bool2_true = bool(bool_true)\n",
        "bool2_false = bool(bool_false)\n",
        "\n",
        "print(\"\")\n",
        "print(\"Section C:\")\n",
        "print(bool2_true,type(bool2_true))\n",
        "print(bool2_false,type(bool2_false))\n",
        "\n"
      ]
    },
    {
      "cell_type": "markdown",
      "metadata": {
        "id": "iQXvzoGI77PI"
      },
      "source": [
        "\n",
        "\n",
        "## OPERATORS\n",
        "\n",
        "### P1.PY\n",
        "\n",
        "\n"
      ]
    },
    {
      "cell_type": "code",
      "execution_count": 25,
      "metadata": {
        "id": "9xyTeuwD77PJ",
        "colab": {
          "base_uri": "https://localhost:8080/"
        },
        "outputId": "3339a1fc-16c3-4fd9-dd46-b7c4e79b02aa"
      },
      "outputs": [
        {
          "output_type": "stream",
          "name": "stdout",
          "text": [
            "\n",
            "Original Variable = 100\n",
            "\n",
            "Add 50\n",
            "150\n",
            "\n",
            "Subtract 90\n",
            "60\n",
            "\n",
            "Multiply 10\n",
            "600\n",
            "\n",
            "Divide 150\n",
            "4.0\n",
            "\n",
            "Modulus 3\n",
            "1.0\n"
          ]
        }
      ],
      "source": [
        "\"\"\"\n",
        "Integer & Float Operators\n",
        "\"\"\"\n",
        "\n",
        "# Complete the specified math operations. Do the next operation on the result from the previous operation.\n",
        "\n",
        "orig_var = 100\n",
        "\n",
        "\n",
        "print(\"\")\n",
        "print(\"Original Variable =\",orig_var)\n",
        "\n",
        "\n",
        "# Add 50\n",
        "\n",
        "\n",
        "print(\"\")\n",
        "print(\"Add 50\")\n",
        "orig_var += 50\n",
        "print(orig_var)\n",
        "\n",
        "\n",
        "# Subtract 90\n",
        "\n",
        "\n",
        "print(\"\")\n",
        "print(\"Subtract 90\")\n",
        "orig_var -= 90\n",
        "print(orig_var)\n",
        "\n",
        "\n",
        "# Multiply 10\n",
        "\n",
        "\n",
        "print(\"\")\n",
        "print(\"Multiply 10\")\n",
        "orig_var *= 10\n",
        "print(orig_var)\n",
        "\n",
        "\n",
        "# Divide 150\n",
        "\n",
        "\n",
        "# Note type changes from integer to float here.\n",
        "print(\"\")\n",
        "print(\"Divide 150\")\n",
        "orig_var /= 150\n",
        "print(orig_var)\n",
        "\n",
        "\n",
        "# Modulus 3\n",
        "\n",
        "\n",
        "# I think this is saying 4/3=1.333333, and 1/3 of 3 is 1, so 1.\n",
        "print(\"\")\n",
        "print(\"Modulus 3\")\n",
        "orig_var %= 3\n",
        "print(orig_var)\n"
      ]
    },
    {
      "cell_type": "markdown",
      "metadata": {
        "id": "NydMID3877PJ"
      },
      "source": [
        "\n",
        "\n",
        "### P2.PY\n",
        "\n",
        "\n"
      ]
    },
    {
      "cell_type": "code",
      "execution_count": 26,
      "metadata": {
        "id": "d-V2ZZ4Q77PK",
        "colab": {
          "base_uri": "https://localhost:8080/"
        },
        "outputId": "134803f2-4df7-4472-d104-0ae98426b1ad"
      },
      "outputs": [
        {
          "output_type": "stream",
          "name": "stdout",
          "text": [
            "After class im going to make dinner, maybe I'll make chicken.\n"
          ]
        }
      ],
      "source": [
        "\"\"\"\n",
        "String Operators\n",
        "\"\"\"\n",
        "\n",
        "# Create two variables, each of which is half of a compound sentence. Do NOT add any punctuation up front. Add the two variables together, and print the result.\n",
        "## Example compound sentence: \"I'll go to the beach today, and I'll go snorkeling.\"\n",
        "\n",
        "\n",
        "beggining = \"After class im going to make dinner\"\n",
        "end = \"maybe I'll make chicken.\"\n",
        "\n",
        "whole_sentence = beggining + \", \" + end\n",
        "\n",
        "# Print the result\n",
        "print(whole_sentence)"
      ]
    },
    {
      "cell_type": "markdown",
      "metadata": {
        "id": "b0xqjQvq77PK"
      },
      "source": [
        "\n",
        "\n",
        "### P3.PY\n",
        "\n",
        "\n"
      ]
    },
    {
      "cell_type": "code",
      "execution_count": 27,
      "metadata": {
        "id": "HUBNYeUW77PL",
        "colab": {
          "base_uri": "https://localhost:8080/"
        },
        "outputId": "c9791e17-8744-4a7e-d7a0-f89d9e294dbc"
      },
      "outputs": [
        {
          "output_type": "stream",
          "name": "stdout",
          "text": [
            "A: 2\n",
            "B: 02\n",
            "C: 2\n"
          ]
        }
      ],
      "source": [
        "\"\"\"\n",
        "Addition I - Numbers & Strings\n",
        "\"\"\"\n",
        "\n",
        "# Add the below sets of variables together.\n",
        "\n",
        "# A)\n",
        "a = 0\n",
        "b = 2\n",
        "\n",
        "\n",
        "Part_A = a + b\n",
        "print(\"A:\",Part_A)\n",
        "\n",
        "\n",
        "# B)\n",
        "c = '0'\n",
        "d = '2'\n",
        "\n",
        "\n",
        "Part_B = c + d\n",
        "print(\"B:\",Part_B)\n",
        "\n",
        "\n",
        "\n",
        "# C)\n",
        "e = \"0\"\n",
        "f = 2\n",
        "\n",
        "\n",
        "Part_C = int(e) + f\n",
        "print(\"C:\",Part_C)"
      ]
    },
    {
      "cell_type": "markdown",
      "metadata": {
        "id": "OzL_vAh377PM"
      },
      "source": [
        "\n",
        "\n",
        "### P4.PY\n",
        "\n",
        "\n"
      ]
    },
    {
      "cell_type": "code",
      "execution_count": 28,
      "metadata": {
        "id": "pzdP0iNx77PM",
        "colab": {
          "base_uri": "https://localhost:8080/"
        },
        "outputId": "d1f63df7-6b32-4a37-d397-1e156eaf5461"
      },
      "outputs": [
        {
          "output_type": "stream",
          "name": "stdout",
          "text": [
            "A: 2\n",
            "B: 0\n",
            "C: 1\n"
          ]
        }
      ],
      "source": [
        "\"\"\"\n",
        "Addition II - Booleans\n",
        "\"\"\"\n",
        "\n",
        "# Add the below sets of variables together.\n",
        "\n",
        "# A)\n",
        "a = True\n",
        "b = True\n",
        "\n",
        "\n",
        "bool_a = a + b\n",
        "print(\"A:\",bool_a)\n",
        "\n",
        "\n",
        "# B)\n",
        "c = False\n",
        "d = False\n",
        "\n",
        "\n",
        "bool_b = c + d\n",
        "print(\"B:\",bool_b)\n",
        "\n",
        "# C)\n",
        "e = True\n",
        "f = False\n",
        "\n",
        "\n",
        "bool_c = e + f\n",
        "print(\"C:\",bool_c)"
      ]
    },
    {
      "cell_type": "markdown",
      "metadata": {
        "id": "WINLy5o277PM"
      },
      "source": [
        "\n"
      ]
    }
  ]
}